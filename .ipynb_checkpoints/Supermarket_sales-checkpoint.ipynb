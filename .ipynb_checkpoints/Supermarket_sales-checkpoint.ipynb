{
 "cells": [
  {
   "cell_type": "code",
   "execution_count": 1,
   "id": "bcdb7308",
   "metadata": {},
   "outputs": [],
   "source": [
    "# Today I will explore the sales data from several fictitious retail stores.\n",
    "# In this dataset, all stores have the same price per product, which does not increase over time.\n",
    "# First, I will clean the data if necessary and then answer some questions about it."
   ]
  },
  {
   "cell_type": "markdown",
   "id": "fefec1a3",
   "metadata": {},
   "source": [
    "### Loading and cleaning the data"
   ]
  },
  {
   "cell_type": "code",
   "execution_count": 2,
   "id": "cddbc188",
   "metadata": {},
   "outputs": [],
   "source": [
    "import pandas as pd \n",
    "import numpy as np\n",
    "import matplotlib.pyplot as plt\n",
    "import seaborn as sns\n",
    "import datetime"
   ]
  },
  {
   "cell_type": "code",
   "execution_count": 3,
   "id": "ae21ec00",
   "metadata": {},
   "outputs": [
    {
     "data": {
      "text/html": [
       "<div>\n",
       "<style scoped>\n",
       "    .dataframe tbody tr th:only-of-type {\n",
       "        vertical-align: middle;\n",
       "    }\n",
       "\n",
       "    .dataframe tbody tr th {\n",
       "        vertical-align: top;\n",
       "    }\n",
       "\n",
       "    .dataframe thead th {\n",
       "        text-align: right;\n",
       "    }\n",
       "</style>\n",
       "<table border=\"1\" class=\"dataframe\">\n",
       "  <thead>\n",
       "    <tr style=\"text-align: right;\">\n",
       "      <th></th>\n",
       "      <th>Branch</th>\n",
       "      <th>City</th>\n",
       "      <th>Customer type</th>\n",
       "      <th>Gender</th>\n",
       "      <th>Product line</th>\n",
       "      <th>Unit price</th>\n",
       "      <th>Quantity</th>\n",
       "      <th>Date</th>\n",
       "      <th>Time</th>\n",
       "      <th>Payment</th>\n",
       "      <th>rating</th>\n",
       "    </tr>\n",
       "  </thead>\n",
       "  <tbody>\n",
       "    <tr>\n",
       "      <th>0</th>\n",
       "      <td>A</td>\n",
       "      <td>Novaville</td>\n",
       "      <td>Member</td>\n",
       "      <td>Female</td>\n",
       "      <td>Health and beauty</td>\n",
       "      <td>74.69</td>\n",
       "      <td>7</td>\n",
       "      <td>2020-02-16</td>\n",
       "      <td>17:33</td>\n",
       "      <td>Ewallet</td>\n",
       "      <td>10</td>\n",
       "    </tr>\n",
       "    <tr>\n",
       "      <th>1</th>\n",
       "      <td>C</td>\n",
       "      <td>Astral Bay</td>\n",
       "      <td>Normal</td>\n",
       "      <td>Female</td>\n",
       "      <td>Electronic accessories</td>\n",
       "      <td>15.28</td>\n",
       "      <td>7</td>\n",
       "      <td>2020-03-01</td>\n",
       "      <td>18:41</td>\n",
       "      <td>Cash</td>\n",
       "      <td>9</td>\n",
       "    </tr>\n",
       "    <tr>\n",
       "      <th>2</th>\n",
       "      <td>A</td>\n",
       "      <td>Celestria</td>\n",
       "      <td>Normal</td>\n",
       "      <td>Male</td>\n",
       "      <td>Home and lifestyle</td>\n",
       "      <td>46.33</td>\n",
       "      <td>5</td>\n",
       "      <td>2020-10-31</td>\n",
       "      <td>18:16</td>\n",
       "      <td>Credit card</td>\n",
       "      <td>6</td>\n",
       "    </tr>\n",
       "    <tr>\n",
       "      <th>3</th>\n",
       "      <td>A</td>\n",
       "      <td>Eldoria</td>\n",
       "      <td>Member</td>\n",
       "      <td>Male</td>\n",
       "      <td>Health and beauty</td>\n",
       "      <td>58.22</td>\n",
       "      <td>8</td>\n",
       "      <td>2020-09-05</td>\n",
       "      <td>13:34</td>\n",
       "      <td>Ewallet</td>\n",
       "      <td>10</td>\n",
       "    </tr>\n",
       "    <tr>\n",
       "      <th>4</th>\n",
       "      <td>A</td>\n",
       "      <td>Celestria</td>\n",
       "      <td>Normal</td>\n",
       "      <td>Male</td>\n",
       "      <td>Sports and travel</td>\n",
       "      <td>86.31</td>\n",
       "      <td>1</td>\n",
       "      <td>2020-05-27</td>\n",
       "      <td>13:59</td>\n",
       "      <td>Ewallet</td>\n",
       "      <td>5</td>\n",
       "    </tr>\n",
       "  </tbody>\n",
       "</table>\n",
       "</div>"
      ],
      "text/plain": [
       "  Branch        City Customer type  Gender            Product line  \\\n",
       "0      A   Novaville        Member  Female       Health and beauty   \n",
       "1      C  Astral Bay        Normal  Female  Electronic accessories   \n",
       "2      A   Celestria        Normal    Male      Home and lifestyle   \n",
       "3      A     Eldoria        Member    Male       Health and beauty   \n",
       "4      A   Celestria        Normal    Male       Sports and travel   \n",
       "\n",
       "   Unit price  Quantity        Date   Time      Payment rating  \n",
       "0       74.69         7  2020-02-16  17:33      Ewallet     10  \n",
       "1       15.28         7  2020-03-01  18:41         Cash      9  \n",
       "2       46.33         5  2020-10-31  18:16  Credit card      6  \n",
       "3       58.22         8  2020-09-05  13:34      Ewallet     10  \n",
       "4       86.31         1  2020-05-27  13:59      Ewallet      5  "
      ]
     },
     "execution_count": 3,
     "metadata": {},
     "output_type": "execute_result"
    }
   ],
   "source": [
    "df = pd.read_csv(\"supermarket_sales.csv\", usecols=lambda x: x != \"Invoice ID\") #I don't need the ID column\n",
    "df.head()"
   ]
  },
  {
   "cell_type": "code",
   "execution_count": 4,
   "id": "a86bb831",
   "metadata": {},
   "outputs": [],
   "source": [
    "# I preffer lower case and no empty spaces\n",
    "df.columns = df.columns.str.lower()\n",
    "df.columns = df.columns.str.replace(\" \", \"_\")"
   ]
  },
  {
   "cell_type": "code",
   "execution_count": 5,
   "id": "e73aff29",
   "metadata": {},
   "outputs": [
    {
     "data": {
      "text/html": [
       "<div>\n",
       "<style scoped>\n",
       "    .dataframe tbody tr th:only-of-type {\n",
       "        vertical-align: middle;\n",
       "    }\n",
       "\n",
       "    .dataframe tbody tr th {\n",
       "        vertical-align: top;\n",
       "    }\n",
       "\n",
       "    .dataframe thead th {\n",
       "        text-align: right;\n",
       "    }\n",
       "</style>\n",
       "<table border=\"1\" class=\"dataframe\">\n",
       "  <thead>\n",
       "    <tr style=\"text-align: right;\">\n",
       "      <th></th>\n",
       "      <th>branch</th>\n",
       "      <th>city</th>\n",
       "      <th>customer_type</th>\n",
       "      <th>gender</th>\n",
       "      <th>product_line</th>\n",
       "      <th>unit_price</th>\n",
       "      <th>quantity</th>\n",
       "      <th>date</th>\n",
       "      <th>time</th>\n",
       "      <th>payment</th>\n",
       "      <th>rating</th>\n",
       "    </tr>\n",
       "  </thead>\n",
       "  <tbody>\n",
       "    <tr>\n",
       "      <th>29995</th>\n",
       "      <td>C</td>\n",
       "      <td>Arcanburg</td>\n",
       "      <td>Normal</td>\n",
       "      <td>Male</td>\n",
       "      <td>Health and beauty</td>\n",
       "      <td>40.35</td>\n",
       "      <td>3</td>\n",
       "      <td>2020-12-27</td>\n",
       "      <td>17:40</td>\n",
       "      <td>Ewallet</td>\n",
       "      <td>6</td>\n",
       "    </tr>\n",
       "    <tr>\n",
       "      <th>29996</th>\n",
       "      <td>B</td>\n",
       "      <td>Zephyropolis</td>\n",
       "      <td>Normal</td>\n",
       "      <td>Female</td>\n",
       "      <td>Home and lifestyle</td>\n",
       "      <td>97.38</td>\n",
       "      <td>3</td>\n",
       "      <td>2020-01-01</td>\n",
       "      <td>20:24</td>\n",
       "      <td>Ewallet</td>\n",
       "      <td>4</td>\n",
       "    </tr>\n",
       "    <tr>\n",
       "      <th>29997</th>\n",
       "      <td>A</td>\n",
       "      <td>Novaville</td>\n",
       "      <td>Member</td>\n",
       "      <td>Male</td>\n",
       "      <td>Food and beverages</td>\n",
       "      <td>31.84</td>\n",
       "      <td>4</td>\n",
       "      <td>2020-05-09</td>\n",
       "      <td>18:49</td>\n",
       "      <td>Cash</td>\n",
       "      <td>10</td>\n",
       "    </tr>\n",
       "    <tr>\n",
       "      <th>29998</th>\n",
       "      <td>A</td>\n",
       "      <td>Celestria</td>\n",
       "      <td>Normal</td>\n",
       "      <td>Male</td>\n",
       "      <td>Home and lifestyle</td>\n",
       "      <td>65.82</td>\n",
       "      <td>1</td>\n",
       "      <td>2020-03-23</td>\n",
       "      <td>12:48</td>\n",
       "      <td>Cash</td>\n",
       "      <td>4</td>\n",
       "    </tr>\n",
       "    <tr>\n",
       "      <th>29999</th>\n",
       "      <td>A</td>\n",
       "      <td>Eldoria</td>\n",
       "      <td>Member</td>\n",
       "      <td>Female</td>\n",
       "      <td>Fashion accessories</td>\n",
       "      <td>88.34</td>\n",
       "      <td>3</td>\n",
       "      <td>2020-12-17</td>\n",
       "      <td>17:15</td>\n",
       "      <td>Cash</td>\n",
       "      <td>9</td>\n",
       "    </tr>\n",
       "  </tbody>\n",
       "</table>\n",
       "</div>"
      ],
      "text/plain": [
       "      branch          city customer_type  gender         product_line  \\\n",
       "29995      C     Arcanburg        Normal    Male    Health and beauty   \n",
       "29996      B  Zephyropolis        Normal  Female   Home and lifestyle   \n",
       "29997      A     Novaville        Member    Male   Food and beverages   \n",
       "29998      A     Celestria        Normal    Male   Home and lifestyle   \n",
       "29999      A       Eldoria        Member  Female  Fashion accessories   \n",
       "\n",
       "       unit_price  quantity        date   time  payment rating  \n",
       "29995       40.35         3  2020-12-27  17:40  Ewallet      6  \n",
       "29996       97.38         3  2020-01-01  20:24  Ewallet      4  \n",
       "29997       31.84         4  2020-05-09  18:49     Cash     10  \n",
       "29998       65.82         1  2020-03-23  12:48     Cash      4  \n",
       "29999       88.34         3  2020-12-17  17:15     Cash      9  "
      ]
     },
     "execution_count": 5,
     "metadata": {},
     "output_type": "execute_result"
    }
   ],
   "source": [
    "df.tail()"
   ]
  },
  {
   "cell_type": "code",
   "execution_count": 6,
   "id": "76f4670c",
   "metadata": {},
   "outputs": [
    {
     "data": {
      "text/plain": [
       "branch            object\n",
       "city              object\n",
       "customer_type     object\n",
       "gender            object\n",
       "product_line      object\n",
       "unit_price       float64\n",
       "quantity           int64\n",
       "date              object\n",
       "time              object\n",
       "payment           object\n",
       "rating            object\n",
       "dtype: object"
      ]
     },
     "execution_count": 6,
     "metadata": {},
     "output_type": "execute_result"
    }
   ],
   "source": [
    "# Making sure that the datatypes are correct\n",
    "df.dtypes"
   ]
  },
  {
   "cell_type": "code",
   "execution_count": 7,
   "id": "270d7653",
   "metadata": {},
   "outputs": [],
   "source": [
    "# It seems that column rating is not of the, propper, integer format"
   ]
  },
  {
   "cell_type": "code",
   "execution_count": 8,
   "id": "5b4011c5",
   "metadata": {},
   "outputs": [
    {
     "data": {
      "text/plain": [
       "array(['10', '9', '6', '5', '4', '7', '8', '10 - Very Good',\n",
       "       '4 - Below average'], dtype=object)"
      ]
     },
     "execution_count": 8,
     "metadata": {},
     "output_type": "execute_result"
    }
   ],
   "source": [
    "df[\"rating\"].unique()"
   ]
  },
  {
   "cell_type": "code",
   "execution_count": 9,
   "id": "6de9e0a0",
   "metadata": {},
   "outputs": [],
   "source": [
    "# I need to remove the unnecessary symbols"
   ]
  },
  {
   "cell_type": "code",
   "execution_count": 10,
   "id": "bf7fd664",
   "metadata": {},
   "outputs": [
    {
     "name": "stderr",
     "output_type": "stream",
     "text": [
      "C:\\Users\\Rex\\AppData\\Local\\Temp\\ipykernel_10860\\3147765315.py:1: FutureWarning: The default value of regex will change from True to False in a future version.\n",
      "  df[\"rating\"] = df[\"rating\"].str.replace(\"[^0-9]\",'')\n"
     ]
    },
    {
     "data": {
      "text/plain": [
       "array([10,  9,  6,  5,  4,  7,  8])"
      ]
     },
     "execution_count": 10,
     "metadata": {},
     "output_type": "execute_result"
    }
   ],
   "source": [
    "df[\"rating\"] = df[\"rating\"].str.replace(\"[^0-9]\",'')\n",
    "df[\"rating\"] = df[\"rating\"].astype(int)\n",
    "df[\"rating\"].unique()"
   ]
  },
  {
   "cell_type": "code",
   "execution_count": 11,
   "id": "718ecce4",
   "metadata": {},
   "outputs": [],
   "source": [
    "# I need to convert date and time columns from string to apropriate data format"
   ]
  },
  {
   "cell_type": "code",
   "execution_count": 12,
   "id": "bf483004",
   "metadata": {},
   "outputs": [],
   "source": [
    "df[\"date\"] = pd.to_datetime(df[\"date\"])\n",
    "df[\"time\"] = pd.to_datetime(df[\"time\"], format=\"%H:%M\").dt.time"
   ]
  },
  {
   "cell_type": "code",
   "execution_count": 13,
   "id": "6b289a8a",
   "metadata": {},
   "outputs": [
    {
     "data": {
      "text/plain": [
       "branch                   object\n",
       "city                     object\n",
       "customer_type            object\n",
       "gender                   object\n",
       "product_line             object\n",
       "unit_price              float64\n",
       "quantity                  int64\n",
       "date             datetime64[ns]\n",
       "time                     object\n",
       "payment                  object\n",
       "rating                    int32\n",
       "dtype: object"
      ]
     },
     "execution_count": 13,
     "metadata": {},
     "output_type": "execute_result"
    }
   ],
   "source": [
    "df.dtypes"
   ]
  },
  {
   "cell_type": "code",
   "execution_count": 14,
   "id": "69f21b25",
   "metadata": {},
   "outputs": [
    {
     "data": {
      "text/plain": [
       "branch           2\n",
       "city             2\n",
       "customer_type    0\n",
       "gender           0\n",
       "product_line     0\n",
       "unit_price       3\n",
       "quantity         0\n",
       "date             0\n",
       "time             0\n",
       "payment          0\n",
       "rating           0\n",
       "dtype: int64"
      ]
     },
     "execution_count": 14,
     "metadata": {},
     "output_type": "execute_result"
    }
   ],
   "source": [
    "#Cheking for null values\n",
    "#It looks like there are several null values\n",
    "df.isnull().sum()"
   ]
  },
  {
   "cell_type": "code",
   "execution_count": 15,
   "id": "cb80b42c",
   "metadata": {},
   "outputs": [
    {
     "data": {
      "text/html": [
       "<div>\n",
       "<style scoped>\n",
       "    .dataframe tbody tr th:only-of-type {\n",
       "        vertical-align: middle;\n",
       "    }\n",
       "\n",
       "    .dataframe tbody tr th {\n",
       "        vertical-align: top;\n",
       "    }\n",
       "\n",
       "    .dataframe thead th {\n",
       "        text-align: right;\n",
       "    }\n",
       "</style>\n",
       "<table border=\"1\" class=\"dataframe\">\n",
       "  <thead>\n",
       "    <tr style=\"text-align: right;\">\n",
       "      <th></th>\n",
       "      <th>branch</th>\n",
       "      <th>city</th>\n",
       "      <th>customer_type</th>\n",
       "      <th>gender</th>\n",
       "      <th>product_line</th>\n",
       "      <th>unit_price</th>\n",
       "      <th>quantity</th>\n",
       "      <th>date</th>\n",
       "      <th>time</th>\n",
       "      <th>payment</th>\n",
       "      <th>rating</th>\n",
       "    </tr>\n",
       "  </thead>\n",
       "  <tbody>\n",
       "    <tr>\n",
       "      <th>16561</th>\n",
       "      <td>NaN</td>\n",
       "      <td>Astral Bay</td>\n",
       "      <td>Normal</td>\n",
       "      <td>Male</td>\n",
       "      <td>Food and beverages</td>\n",
       "      <td>89.20</td>\n",
       "      <td>3</td>\n",
       "      <td>2020-05-19</td>\n",
       "      <td>17:09:00</td>\n",
       "      <td>Credit card</td>\n",
       "      <td>4</td>\n",
       "    </tr>\n",
       "    <tr>\n",
       "      <th>23069</th>\n",
       "      <td>NaN</td>\n",
       "      <td>Eldoria</td>\n",
       "      <td>Member</td>\n",
       "      <td>Female</td>\n",
       "      <td>Health and beauty</td>\n",
       "      <td>18.33</td>\n",
       "      <td>2</td>\n",
       "      <td>2020-09-19</td>\n",
       "      <td>13:36:00</td>\n",
       "      <td>Cash</td>\n",
       "      <td>7</td>\n",
       "    </tr>\n",
       "  </tbody>\n",
       "</table>\n",
       "</div>"
      ],
      "text/plain": [
       "      branch        city customer_type  gender        product_line  \\\n",
       "16561    NaN  Astral Bay        Normal    Male  Food and beverages   \n",
       "23069    NaN     Eldoria        Member  Female   Health and beauty   \n",
       "\n",
       "       unit_price  quantity       date      time      payment  rating  \n",
       "16561       89.20         3 2020-05-19  17:09:00  Credit card       4  \n",
       "23069       18.33         2 2020-09-19  13:36:00         Cash       7  "
      ]
     },
     "execution_count": 15,
     "metadata": {},
     "output_type": "execute_result"
    }
   ],
   "source": [
    "#First, lets look at the null branch values\n",
    "df[df[\"branch\"].isnull()]"
   ]
  },
  {
   "cell_type": "code",
   "execution_count": 16,
   "id": "02315af6",
   "metadata": {},
   "outputs": [
    {
     "name": "stdout",
     "output_type": "stream",
     "text": [
      "Only branch values available for Astral Bay are : ['C' nan] \n",
      "Only branch values available for Eldoria are : ['A' nan] \n"
     ]
    }
   ],
   "source": [
    "v1 = df[df[\"city\"] == \"Astral Bay\"][\"branch\"].unique()\n",
    "v2 = df[df[\"city\"] == \"Eldoria\"][\"branch\"].unique()\n",
    "\n",
    "print(f\"Only branch values available for Astral Bay are : {v1} \")\n",
    "print(f\"Only branch values available for Eldoria are : {v2} \")"
   ]
  },
  {
   "cell_type": "code",
   "execution_count": 17,
   "id": "1d247380",
   "metadata": {},
   "outputs": [],
   "source": [
    "df.loc[df[\"city\"] == \"Astral Bay\", \"branch\"] = \"C\""
   ]
  },
  {
   "cell_type": "code",
   "execution_count": 18,
   "id": "a58c882e",
   "metadata": {},
   "outputs": [],
   "source": [
    "df.loc[df[\"city\"] == \"Eldoria\", \"branch\"] = \"A\""
   ]
  },
  {
   "cell_type": "code",
   "execution_count": 19,
   "id": "63d41946",
   "metadata": {},
   "outputs": [
    {
     "data": {
      "text/html": [
       "<div>\n",
       "<style scoped>\n",
       "    .dataframe tbody tr th:only-of-type {\n",
       "        vertical-align: middle;\n",
       "    }\n",
       "\n",
       "    .dataframe tbody tr th {\n",
       "        vertical-align: top;\n",
       "    }\n",
       "\n",
       "    .dataframe thead th {\n",
       "        text-align: right;\n",
       "    }\n",
       "</style>\n",
       "<table border=\"1\" class=\"dataframe\">\n",
       "  <thead>\n",
       "    <tr style=\"text-align: right;\">\n",
       "      <th></th>\n",
       "      <th>branch</th>\n",
       "      <th>city</th>\n",
       "      <th>customer_type</th>\n",
       "      <th>gender</th>\n",
       "      <th>product_line</th>\n",
       "      <th>unit_price</th>\n",
       "      <th>quantity</th>\n",
       "      <th>date</th>\n",
       "      <th>time</th>\n",
       "      <th>payment</th>\n",
       "      <th>rating</th>\n",
       "    </tr>\n",
       "  </thead>\n",
       "  <tbody>\n",
       "  </tbody>\n",
       "</table>\n",
       "</div>"
      ],
      "text/plain": [
       "Empty DataFrame\n",
       "Columns: [branch, city, customer_type, gender, product_line, unit_price, quantity, date, time, payment, rating]\n",
       "Index: []"
      ]
     },
     "execution_count": 19,
     "metadata": {},
     "output_type": "execute_result"
    }
   ],
   "source": [
    "# No null branches\n",
    "df[df[\"branch\"].isnull()]"
   ]
  },
  {
   "cell_type": "code",
   "execution_count": 20,
   "id": "57351fe8",
   "metadata": {},
   "outputs": [],
   "source": [
    "# Now lets deal with the null unit prices"
   ]
  },
  {
   "cell_type": "code",
   "execution_count": 21,
   "id": "dfa68cc1",
   "metadata": {},
   "outputs": [
    {
     "data": {
      "text/html": [
       "<div>\n",
       "<style scoped>\n",
       "    .dataframe tbody tr th:only-of-type {\n",
       "        vertical-align: middle;\n",
       "    }\n",
       "\n",
       "    .dataframe tbody tr th {\n",
       "        vertical-align: top;\n",
       "    }\n",
       "\n",
       "    .dataframe thead th {\n",
       "        text-align: right;\n",
       "    }\n",
       "</style>\n",
       "<table border=\"1\" class=\"dataframe\">\n",
       "  <thead>\n",
       "    <tr style=\"text-align: right;\">\n",
       "      <th></th>\n",
       "      <th>branch</th>\n",
       "      <th>city</th>\n",
       "      <th>customer_type</th>\n",
       "      <th>gender</th>\n",
       "      <th>product_line</th>\n",
       "      <th>unit_price</th>\n",
       "      <th>quantity</th>\n",
       "      <th>date</th>\n",
       "      <th>time</th>\n",
       "      <th>payment</th>\n",
       "      <th>rating</th>\n",
       "    </tr>\n",
       "  </thead>\n",
       "  <tbody>\n",
       "    <tr>\n",
       "      <th>16</th>\n",
       "      <td>A</td>\n",
       "      <td>Celestria</td>\n",
       "      <td>Member</td>\n",
       "      <td>Female</td>\n",
       "      <td>Health and beauty</td>\n",
       "      <td>NaN</td>\n",
       "      <td>7</td>\n",
       "      <td>2020-01-25</td>\n",
       "      <td>18:44:00</td>\n",
       "      <td>Credit card</td>\n",
       "      <td>8</td>\n",
       "    </tr>\n",
       "    <tr>\n",
       "      <th>7187</th>\n",
       "      <td>B</td>\n",
       "      <td>Aetherhaven</td>\n",
       "      <td>Member</td>\n",
       "      <td>Male</td>\n",
       "      <td>Home and lifestyle</td>\n",
       "      <td>NaN</td>\n",
       "      <td>3</td>\n",
       "      <td>2020-12-11</td>\n",
       "      <td>18:29:00</td>\n",
       "      <td>Cash</td>\n",
       "      <td>9</td>\n",
       "    </tr>\n",
       "    <tr>\n",
       "      <th>9956</th>\n",
       "      <td>C</td>\n",
       "      <td>Arcanburg</td>\n",
       "      <td>Member</td>\n",
       "      <td>Male</td>\n",
       "      <td>Food and beverages</td>\n",
       "      <td>NaN</td>\n",
       "      <td>8</td>\n",
       "      <td>2020-04-18</td>\n",
       "      <td>14:58:00</td>\n",
       "      <td>Cash</td>\n",
       "      <td>8</td>\n",
       "    </tr>\n",
       "  </tbody>\n",
       "</table>\n",
       "</div>"
      ],
      "text/plain": [
       "     branch         city customer_type  gender        product_line  \\\n",
       "16        A    Celestria        Member  Female   Health and beauty   \n",
       "7187      B  Aetherhaven        Member    Male  Home and lifestyle   \n",
       "9956      C    Arcanburg        Member    Male  Food and beverages   \n",
       "\n",
       "      unit_price  quantity       date      time      payment  rating  \n",
       "16           NaN         7 2020-01-25  18:44:00  Credit card       8  \n",
       "7187         NaN         3 2020-12-11  18:29:00         Cash       9  \n",
       "9956         NaN         8 2020-04-18  14:58:00         Cash       8  "
      ]
     },
     "execution_count": 21,
     "metadata": {},
     "output_type": "execute_result"
    }
   ],
   "source": [
    "df[df[\"unit_price\"].isnull()]"
   ]
  },
  {
   "cell_type": "code",
   "execution_count": 22,
   "id": "4e523b70",
   "metadata": {},
   "outputs": [
    {
     "data": {
      "text/plain": [
       "55.67216755008833"
      ]
     },
     "execution_count": 22,
     "metadata": {},
     "output_type": "execute_result"
    }
   ],
   "source": [
    "#the easiest thing is to just take the average of the column but this will not necesarely lead to the most accurate numbers \n",
    "df[\"unit_price\"].mean()"
   ]
  },
  {
   "cell_type": "code",
   "execution_count": 23,
   "id": "f707b6fe",
   "metadata": {},
   "outputs": [
    {
     "data": {
      "text/plain": [
       "54.85138626891862"
      ]
     },
     "execution_count": 23,
     "metadata": {},
     "output_type": "execute_result"
    }
   ],
   "source": [
    "df[(df[\"product_line\"]==\"Health and beauty\")][\"unit_price\"].mean()"
   ]
  },
  {
   "cell_type": "code",
   "execution_count": 24,
   "id": "e8d2c0aa",
   "metadata": {},
   "outputs": [],
   "source": [
    "avg_unit_price = round(df.groupby(\"product_line\")[\"unit_price\"].transform('mean'),2)\n",
    "df[\"unit_price\"].fillna(avg_unit_price, inplace=True)"
   ]
  },
  {
   "cell_type": "code",
   "execution_count": 25,
   "id": "841d7185",
   "metadata": {},
   "outputs": [
    {
     "data": {
      "text/html": [
       "<div>\n",
       "<style scoped>\n",
       "    .dataframe tbody tr th:only-of-type {\n",
       "        vertical-align: middle;\n",
       "    }\n",
       "\n",
       "    .dataframe tbody tr th {\n",
       "        vertical-align: top;\n",
       "    }\n",
       "\n",
       "    .dataframe thead th {\n",
       "        text-align: right;\n",
       "    }\n",
       "</style>\n",
       "<table border=\"1\" class=\"dataframe\">\n",
       "  <thead>\n",
       "    <tr style=\"text-align: right;\">\n",
       "      <th></th>\n",
       "      <th>branch</th>\n",
       "      <th>city</th>\n",
       "      <th>customer_type</th>\n",
       "      <th>gender</th>\n",
       "      <th>product_line</th>\n",
       "      <th>unit_price</th>\n",
       "      <th>quantity</th>\n",
       "      <th>date</th>\n",
       "      <th>time</th>\n",
       "      <th>payment</th>\n",
       "      <th>rating</th>\n",
       "    </tr>\n",
       "  </thead>\n",
       "  <tbody>\n",
       "  </tbody>\n",
       "</table>\n",
       "</div>"
      ],
      "text/plain": [
       "Empty DataFrame\n",
       "Columns: [branch, city, customer_type, gender, product_line, unit_price, quantity, date, time, payment, rating]\n",
       "Index: []"
      ]
     },
     "execution_count": 25,
     "metadata": {},
     "output_type": "execute_result"
    }
   ],
   "source": [
    "# No nulls\n",
    "df[df[\"unit_price\"].isnull()]"
   ]
  },
  {
   "cell_type": "markdown",
   "id": "b068ccb6",
   "metadata": {},
   "source": [
    "### Data exploration"
   ]
  },
  {
   "cell_type": "code",
   "execution_count": 26,
   "id": "f0dcbb4a",
   "metadata": {},
   "outputs": [],
   "source": [
    "# Now that the data is in a correct fromat has no null values it is time to answer some questions"
   ]
  },
  {
   "cell_type": "markdown",
   "id": "284b441d",
   "metadata": {},
   "source": [
    "##### Q1: What is the total sales revenue for each branch?"
   ]
  },
  {
   "cell_type": "code",
   "execution_count": 27,
   "id": "3219d969",
   "metadata": {},
   "outputs": [
    {
     "data": {
      "text/html": [
       "<div>\n",
       "<style scoped>\n",
       "    .dataframe tbody tr th:only-of-type {\n",
       "        vertical-align: middle;\n",
       "    }\n",
       "\n",
       "    .dataframe tbody tr th {\n",
       "        vertical-align: top;\n",
       "    }\n",
       "\n",
       "    .dataframe thead th {\n",
       "        text-align: right;\n",
       "    }\n",
       "</style>\n",
       "<table border=\"1\" class=\"dataframe\">\n",
       "  <thead>\n",
       "    <tr style=\"text-align: right;\">\n",
       "      <th></th>\n",
       "      <th>branch</th>\n",
       "      <th>city</th>\n",
       "      <th>customer_type</th>\n",
       "      <th>gender</th>\n",
       "      <th>product_line</th>\n",
       "      <th>unit_price</th>\n",
       "      <th>quantity</th>\n",
       "      <th>date</th>\n",
       "      <th>time</th>\n",
       "      <th>payment</th>\n",
       "      <th>rating</th>\n",
       "      <th>revenue</th>\n",
       "    </tr>\n",
       "  </thead>\n",
       "  <tbody>\n",
       "    <tr>\n",
       "      <th>0</th>\n",
       "      <td>A</td>\n",
       "      <td>Novaville</td>\n",
       "      <td>Member</td>\n",
       "      <td>Female</td>\n",
       "      <td>Health and beauty</td>\n",
       "      <td>74.69</td>\n",
       "      <td>7</td>\n",
       "      <td>2020-02-16</td>\n",
       "      <td>17:33:00</td>\n",
       "      <td>Ewallet</td>\n",
       "      <td>10</td>\n",
       "      <td>522.83</td>\n",
       "    </tr>\n",
       "    <tr>\n",
       "      <th>1</th>\n",
       "      <td>C</td>\n",
       "      <td>Astral Bay</td>\n",
       "      <td>Normal</td>\n",
       "      <td>Female</td>\n",
       "      <td>Electronic accessories</td>\n",
       "      <td>15.28</td>\n",
       "      <td>7</td>\n",
       "      <td>2020-03-01</td>\n",
       "      <td>18:41:00</td>\n",
       "      <td>Cash</td>\n",
       "      <td>9</td>\n",
       "      <td>106.96</td>\n",
       "    </tr>\n",
       "    <tr>\n",
       "      <th>2</th>\n",
       "      <td>A</td>\n",
       "      <td>Celestria</td>\n",
       "      <td>Normal</td>\n",
       "      <td>Male</td>\n",
       "      <td>Home and lifestyle</td>\n",
       "      <td>46.33</td>\n",
       "      <td>5</td>\n",
       "      <td>2020-10-31</td>\n",
       "      <td>18:16:00</td>\n",
       "      <td>Credit card</td>\n",
       "      <td>6</td>\n",
       "      <td>231.65</td>\n",
       "    </tr>\n",
       "    <tr>\n",
       "      <th>3</th>\n",
       "      <td>A</td>\n",
       "      <td>Eldoria</td>\n",
       "      <td>Member</td>\n",
       "      <td>Male</td>\n",
       "      <td>Health and beauty</td>\n",
       "      <td>58.22</td>\n",
       "      <td>8</td>\n",
       "      <td>2020-09-05</td>\n",
       "      <td>13:34:00</td>\n",
       "      <td>Ewallet</td>\n",
       "      <td>10</td>\n",
       "      <td>465.76</td>\n",
       "    </tr>\n",
       "    <tr>\n",
       "      <th>4</th>\n",
       "      <td>A</td>\n",
       "      <td>Celestria</td>\n",
       "      <td>Normal</td>\n",
       "      <td>Male</td>\n",
       "      <td>Sports and travel</td>\n",
       "      <td>86.31</td>\n",
       "      <td>1</td>\n",
       "      <td>2020-05-27</td>\n",
       "      <td>13:59:00</td>\n",
       "      <td>Ewallet</td>\n",
       "      <td>5</td>\n",
       "      <td>86.31</td>\n",
       "    </tr>\n",
       "  </tbody>\n",
       "</table>\n",
       "</div>"
      ],
      "text/plain": [
       "  branch        city customer_type  gender            product_line  \\\n",
       "0      A   Novaville        Member  Female       Health and beauty   \n",
       "1      C  Astral Bay        Normal  Female  Electronic accessories   \n",
       "2      A   Celestria        Normal    Male      Home and lifestyle   \n",
       "3      A     Eldoria        Member    Male       Health and beauty   \n",
       "4      A   Celestria        Normal    Male       Sports and travel   \n",
       "\n",
       "   unit_price  quantity       date      time      payment  rating  revenue  \n",
       "0       74.69         7 2020-02-16  17:33:00      Ewallet      10   522.83  \n",
       "1       15.28         7 2020-03-01  18:41:00         Cash       9   106.96  \n",
       "2       46.33         5 2020-10-31  18:16:00  Credit card       6   231.65  \n",
       "3       58.22         8 2020-09-05  13:34:00      Ewallet      10   465.76  \n",
       "4       86.31         1 2020-05-27  13:59:00      Ewallet       5    86.31  "
      ]
     },
     "execution_count": 27,
     "metadata": {},
     "output_type": "execute_result"
    }
   ],
   "source": [
    "df[\"revenue\"] = df[\"unit_price\"]*df[\"quantity\"]\n",
    "df.head()"
   ]
  },
  {
   "cell_type": "code",
   "execution_count": 28,
   "id": "397787fa",
   "metadata": {},
   "outputs": [
    {
     "data": {
      "text/plain": [
       "branch\n",
       "A    2,201,341.21\n",
       "B    2,180,242.10\n",
       "C    2,294,893.92\n",
       "Name: revenue, dtype: object"
      ]
     },
     "execution_count": 28,
     "metadata": {},
     "output_type": "execute_result"
    }
   ],
   "source": [
    "df.groupby(\"branch\")[\"revenue\"].sum().map(\"{:,.2f}\".format)"
   ]
  },
  {
   "cell_type": "code",
   "execution_count": 29,
   "id": "c12c5814",
   "metadata": {},
   "outputs": [
    {
     "data": {
      "image/png": "[encoded data removed]",
      "text/plain": [
       "<Figure size 800x400 with 1 Axes>"
      ]
     },
     "metadata": {},
     "output_type": "display_data"
    }
   ],
   "source": [
    "sales = df.groupby(\"branch\")[\"revenue\"].sum()\n",
    "branches = sales.index\n",
    "revenue = sales.values\n",
    "clrs = [\"#87CEEB\", \"#87CEFA\", \"#ADD8E6\"]\n",
    "\n",
    "plt.figure(figsize=(8, 4))\n",
    "plt.bar(branches, revenue, color=clrs)\n",
    "plt.title(\"Total Sales Revenue by Branch\")\n",
    "plt.xlabel(\"Branch\")\n",
    "plt.ylabel(\"Total Sales Revenue\")\n",
    "plt.ylim(bottom=0)\n",
    "plt.xticks(branches)\n",
    "plt.show()"
   ]
  },
  {
   "cell_type": "markdown",
   "id": "c1e95a2f",
   "metadata": {},
   "source": [
    "##### Q2: What is the distribution of customer types in the dataset?"
   ]
  },
  {
   "cell_type": "code",
   "execution_count": 30,
   "id": "f3acf11a",
   "metadata": {},
   "outputs": [
    {
     "data": {
      "text/plain": [
       "Member    15030\n",
       "Normal    14970\n",
       "Name: customer_type, dtype: int64"
      ]
     },
     "execution_count": 30,
     "metadata": {},
     "output_type": "execute_result"
    }
   ],
   "source": [
    "df[\"customer_type\"].value_counts()"
   ]
  },
  {
   "cell_type": "code",
   "execution_count": 31,
   "id": "7a7527d1",
   "metadata": {},
   "outputs": [
    {
     "data": {
      "image/png": "[encoded data removed]",
      "text/plain": [
       "<Figure size 640x480 with 1 Axes>"
      ]
     },
     "metadata": {},
     "output_type": "display_data"
    }
   ],
   "source": [
    "df[\"customer_type\"].value_counts().plot(kind=\"bar\", color=[\"skyblue\", \"steelblue\"])\n",
    "plt.title(\"Distribution of customer by type\")\n",
    "plt.xlabel(\"Customer type\")\n",
    "plt.ylabel(\"Count\")\n",
    "plt.xticks(rotation=0)  # Rotate x-axis labels to 45 degrees\n",
    "plt.show()"
   ]
  },
  {
   "cell_type": "markdown",
   "id": "0a174fa4",
   "metadata": {},
   "source": [
    "##### Q3: Is there any correlation between gender and customer rating?"
   ]
  },
  {
   "cell_type": "code",
   "execution_count": 32,
   "id": "ac10290d",
   "metadata": {},
   "outputs": [],
   "source": [
    "#The simplest way to determent if there is a corelation in this case is to take the average rating for each geneder"
   ]
  },
  {
   "cell_type": "code",
   "execution_count": 33,
   "id": "320da66e",
   "metadata": {},
   "outputs": [
    {
     "data": {
      "text/plain": [
       "gender\n",
       "Female    7.810055\n",
       "Male      7.707794\n",
       "Name: rating, dtype: float64"
      ]
     },
     "execution_count": 33,
     "metadata": {},
     "output_type": "execute_result"
    }
   ],
   "source": [
    "# The ratings given by both man and woman are almost the same. This would be a basic indicator that there is no correlation between gender and rating.\n",
    "df.groupby(\"gender\")[\"rating\"].mean()"
   ]
  },
  {
   "cell_type": "code",
   "execution_count": 34,
   "id": "511190fe",
   "metadata": {},
   "outputs": [
    {
     "data": {
      "text/plain": [
       "-0.028858265902207088"
      ]
     },
     "execution_count": 34,
     "metadata": {},
     "output_type": "execute_result"
    }
   ],
   "source": [
    "# To determine the correlation I use corr() function in pandas\n",
    "df[\"gender\"].replace([\"Female\",\"Male\"],[0,1],inplace=True)\n",
    "df[\"gender\"].corr(df['rating']) # insignificant correlation"
   ]
  },
  {
   "cell_type": "markdown",
   "id": "fa1ea8f9",
   "metadata": {},
   "source": [
    "##### Q4: Which product line generated the highest sales revenue?"
   ]
  },
  {
   "cell_type": "code",
   "execution_count": 35,
   "id": "c68a4539",
   "metadata": {},
   "outputs": [
    {
     "data": {
      "text/plain": [
       "product_line\n",
       "Food and beverages        1235316.78\n",
       "Fashion accessories       1171060.23\n",
       "Sports and travel         1159015.92\n",
       "Home and lifestyle        1082696.38\n",
       "Electronic accessories    1055835.50\n",
       "Health and beauty          972552.42\n",
       "Name: revenue, dtype: float64"
      ]
     },
     "execution_count": 35,
     "metadata": {},
     "output_type": "execute_result"
    }
   ],
   "source": [
    "df.groupby(\"product_line\")[\"revenue\"].sum().sort_values(ascending=False)"
   ]
  },
  {
   "cell_type": "code",
   "execution_count": 36,
   "id": "1c64cf89",
   "metadata": {},
   "outputs": [
    {
     "data": {
      "text/plain": [
       "product_line\n",
       "Food and beverages    1235316.78\n",
       "Name: revenue, dtype: float64"
      ]
     },
     "execution_count": 36,
     "metadata": {},
     "output_type": "execute_result"
    }
   ],
   "source": [
    "df.groupby(\"product_line\")[\"revenue\"].sum().sort_values(ascending=False).head(1)"
   ]
  },
  {
   "cell_type": "markdown",
   "id": "ae6cbd2d",
   "metadata": {},
   "source": [
    "##### Q5: What is the average unit price for each product line?"
   ]
  },
  {
   "cell_type": "code",
   "execution_count": 37,
   "id": "4caadbfb",
   "metadata": {},
   "outputs": [
    {
     "data": {
      "text/plain": [
       "product_line\n",
       "Fashion accessories       57.153652\n",
       "Sports and travel         56.993253\n",
       "Food and beverages        56.009908\n",
       "Home and lifestyle        55.318781\n",
       "Health and beauty         54.851386\n",
       "Electronic accessories    53.551588\n",
       "Name: unit_price, dtype: float64"
      ]
     },
     "execution_count": 37,
     "metadata": {},
     "output_type": "execute_result"
    }
   ],
   "source": [
    "df.groupby(\"product_line\")[\"unit_price\"].mean().sort_values(ascending=False)"
   ]
  },
  {
   "cell_type": "markdown",
   "id": "872b1ceb",
   "metadata": {},
   "source": [
    "##### Q6: How does the quantity of products purchased vary across different branches?"
   ]
  },
  {
   "cell_type": "code",
   "execution_count": 38,
   "id": "f1ea519d",
   "metadata": {},
   "outputs": [
    {
     "data": {
      "text/plain": [
       "branch\n",
       "A    40924\n",
       "C    40108\n",
       "B    39458\n",
       "Name: quantity, dtype: int64"
      ]
     },
     "execution_count": 38,
     "metadata": {},
     "output_type": "execute_result"
    }
   ],
   "source": [
    "df.groupby(\"branch\")[\"quantity\"].sum().sort_values(ascending=False)"
   ]
  },
  {
   "cell_type": "markdown",
   "id": "525dec8f",
   "metadata": {},
   "source": [
    "##### Q7: What is the most common payment method used by customers?"
   ]
  },
  {
   "cell_type": "code",
   "execution_count": 39,
   "id": "4c16015e",
   "metadata": {},
   "outputs": [
    {
     "data": {
      "text/plain": [
       "Cash           12283\n",
       "Ewallet         9274\n",
       "Credit card     8443\n",
       "Name: payment, dtype: int64"
      ]
     },
     "execution_count": 39,
     "metadata": {},
     "output_type": "execute_result"
    }
   ],
   "source": [
    "df[\"payment\"].value_counts().sort_values(ascending=False)"
   ]
  },
  {
   "cell_type": "markdown",
   "id": "e34bea2d",
   "metadata": {},
   "source": [
    "##### Q8: How does the average rating differ across different product lines?"
   ]
  },
  {
   "cell_type": "code",
   "execution_count": 40,
   "id": "e5c13e67",
   "metadata": {},
   "outputs": [
    {
     "name": "stdout",
     "output_type": "stream",
     "text": [
      "Min rating 4\n",
      "Max rating 10\n"
     ]
    }
   ],
   "source": [
    "print(\"Min rating \"+str(df[\"rating\"].min()))\n",
    "print(\"Max rating \"+str(df[\"rating\"].max()))"
   ]
  },
  {
   "cell_type": "code",
   "execution_count": 41,
   "id": "68bf9d41",
   "metadata": {},
   "outputs": [
    {
     "data": {
      "text/plain": [
       "product_line\n",
       "Food and beverages        7.988506\n",
       "Sports and travel         7.783133\n",
       "Fashion accessories       7.741573\n",
       "Health and beauty         7.723684\n",
       "Home and lifestyle        7.693750\n",
       "Electronic accessories    7.641176\n",
       "Name: rating, dtype: float64"
      ]
     },
     "execution_count": 41,
     "metadata": {},
     "output_type": "execute_result"
    }
   ],
   "source": [
    "df.groupby(\"product_line\")[\"rating\"].mean().sort_values(ascending=False)"
   ]
  },
  {
   "cell_type": "code",
   "execution_count": 42,
   "id": "f805a5e6",
   "metadata": {},
   "outputs": [],
   "source": [
    "# According to the data none of the products have an average rating\n",
    "# The best performer is the \"Food and beverages\" product line with 7.98 out of 10 ratig. The worst-rated line is \"Electronic accessories\" with only 7.64 out of 10."
   ]
  },
  {
   "cell_type": "markdown",
   "id": "3870206e",
   "metadata": {},
   "source": [
    "##### Q9: Is there a significant difference in sales patterns between weekdays and weekends?"
   ]
  },
  {
   "cell_type": "code",
   "execution_count": 43,
   "id": "3c4a6c07",
   "metadata": {},
   "outputs": [],
   "source": [
    "# To find that out I need to get the day of the week for each date."
   ]
  },
  {
   "cell_type": "code",
   "execution_count": 44,
   "id": "4ed7efce",
   "metadata": {},
   "outputs": [],
   "source": [
    "# Below I create a column called weekend, with value 1 symbolizing a weekend and 0 symbolizing a weekday."
   ]
  },
  {
   "cell_type": "code",
   "execution_count": 45,
   "id": "5deb1c0f",
   "metadata": {},
   "outputs": [
    {
     "data": {
      "text/plain": [
       "0    1\n",
       "1    1\n",
       "2    1\n",
       "3    1\n",
       "4    0\n",
       "Name: weekend, dtype: int64"
      ]
     },
     "execution_count": 45,
     "metadata": {},
     "output_type": "execute_result"
    }
   ],
   "source": [
    "df[\"weekend\"] = df[\"date\"].apply(lambda x: 1 if x.weekday() >= 5 else 0)\n",
    "df[\"weekend\"].head()"
   ]
  },
  {
   "cell_type": "code",
   "execution_count": 46,
   "id": "ee76a2d0",
   "metadata": {},
   "outputs": [
    {
     "data": {
      "text/plain": [
       "weekend\n",
       "1    335.305963\n",
       "0    179.564634\n",
       "Name: revenue, dtype: float64"
      ]
     },
     "execution_count": 46,
     "metadata": {},
     "output_type": "execute_result"
    }
   ],
   "source": [
    "df.groupby(\"weekend\")[\"revenue\"].mean().sort_values(ascending=False)"
   ]
  },
  {
   "cell_type": "code",
   "execution_count": 47,
   "id": "d030dd5b",
   "metadata": {},
   "outputs": [
    {
     "data": {
      "text/plain": [
       "weekend\n",
       "1    6.061232\n",
       "0    3.236786\n",
       "Name: quantity, dtype: float64"
      ]
     },
     "execution_count": 47,
     "metadata": {},
     "output_type": "execute_result"
    }
   ],
   "source": [
    "df.groupby(\"weekend\")[\"quantity\"].mean().sort_values(ascending=False)"
   ]
  },
  {
   "cell_type": "code",
   "execution_count": 48,
   "id": "d7777988",
   "metadata": {},
   "outputs": [],
   "source": [
    "# customers are purhcasing more in the weekend"
   ]
  },
  {
   "cell_type": "markdown",
   "id": "542a8510",
   "metadata": {},
   "source": [
    "##### Q10: Is there any relationship between the revenue and customer rating?"
   ]
  },
  {
   "cell_type": "code",
   "execution_count": 49,
   "id": "d43b8e78",
   "metadata": {},
   "outputs": [
    {
     "data": {
      "text/plain": [
       "rating\n",
       "8     279.363216\n",
       "10    273.171822\n",
       "9     269.953311\n",
       "7     175.618198\n",
       "6     159.452953\n",
       "5     115.242784\n",
       "4     103.995350\n",
       "Name: revenue, dtype: float64"
      ]
     },
     "execution_count": 49,
     "metadata": {},
     "output_type": "execute_result"
    }
   ],
   "source": [
    "df.groupby(\"rating\")[\"revenue\"].mean().sort_values(ascending=False)"
   ]
  },
  {
   "cell_type": "code",
   "execution_count": 50,
   "id": "91b4cd84",
   "metadata": {},
   "outputs": [
    {
     "data": {
      "image/png": "[encoded data removed]",
      "text/plain": [
       "<Figure size 640x480 with 1 Axes>"
      ]
     },
     "metadata": {},
     "output_type": "display_data"
    }
   ],
   "source": [
    "mean_revenue_by_rating = df.groupby(\"rating\")[\"revenue\"].mean()\n",
    "\n",
    "mean_revenue_by_rating.plot(kind=\"bar\", color=\"skyblue\")\n",
    "plt.title(\"Mean Revenue by Rating\")\n",
    "plt.xlabel(\"Rating\")\n",
    "plt.ylabel(\"Mean Revenue\")\n",
    "plt.show()"
   ]
  },
  {
   "cell_type": "code",
   "execution_count": 51,
   "id": "732336a9",
   "metadata": {},
   "outputs": [],
   "source": [
    "# we can clearly see a strong correlation etween rating and revenue. customers that have good experience purhase more."
   ]
  },
  {
   "cell_type": "markdown",
   "id": "84e492f1",
   "metadata": {},
   "source": [
    "##### Q11: Is there a relationship between the time of the transaction and the customer rating?"
   ]
  },
  {
   "cell_type": "code",
   "execution_count": 52,
   "id": "15eaf44b",
   "metadata": {},
   "outputs": [],
   "source": [
    "# extracting time of the day"
   ]
  },
  {
   "cell_type": "code",
   "execution_count": null,
   "id": "59f1355e",
   "metadata": {},
   "outputs": [],
   "source": []
  },
  {
   "cell_type": "code",
   "execution_count": 53,
   "id": "3fc87c69",
   "metadata": {},
   "outputs": [],
   "source": [
    "twelve = datetime.datetime.strptime(\"12:00\", '%H:%M').time()\n",
    "five = datetime.datetime.strptime(\"17:00\", '%H:%M').time()"
   ]
  },
  {
   "cell_type": "code",
   "execution_count": 54,
   "id": "88bf61d3",
   "metadata": {},
   "outputs": [],
   "source": [
    "def categorize_time(hour):\n",
    "    if hour < twelve :\n",
    "        return \"morning\"\n",
    "    elif (hour < five and hour > twelve):\n",
    "        return \"afternoon\"\n",
    "    else:\n",
    "        return \"evening\"  "
   ]
  },
  {
   "cell_type": "code",
   "execution_count": 55,
   "id": "6c7cfdad",
   "metadata": {},
   "outputs": [
    {
     "data": {
      "text/html": [
       "<div>\n",
       "<style scoped>\n",
       "    .dataframe tbody tr th:only-of-type {\n",
       "        vertical-align: middle;\n",
       "    }\n",
       "\n",
       "    .dataframe tbody tr th {\n",
       "        vertical-align: top;\n",
       "    }\n",
       "\n",
       "    .dataframe thead th {\n",
       "        text-align: right;\n",
       "    }\n",
       "</style>\n",
       "<table border=\"1\" class=\"dataframe\">\n",
       "  <thead>\n",
       "    <tr style=\"text-align: right;\">\n",
       "      <th></th>\n",
       "      <th>branch</th>\n",
       "      <th>city</th>\n",
       "      <th>customer_type</th>\n",
       "      <th>gender</th>\n",
       "      <th>product_line</th>\n",
       "      <th>unit_price</th>\n",
       "      <th>quantity</th>\n",
       "      <th>date</th>\n",
       "      <th>time</th>\n",
       "      <th>payment</th>\n",
       "      <th>rating</th>\n",
       "      <th>revenue</th>\n",
       "      <th>weekend</th>\n",
       "      <th>time_of_day</th>\n",
       "    </tr>\n",
       "  </thead>\n",
       "  <tbody>\n",
       "    <tr>\n",
       "      <th>0</th>\n",
       "      <td>A</td>\n",
       "      <td>Novaville</td>\n",
       "      <td>Member</td>\n",
       "      <td>0</td>\n",
       "      <td>Health and beauty</td>\n",
       "      <td>74.69</td>\n",
       "      <td>7</td>\n",
       "      <td>2020-02-16</td>\n",
       "      <td>17:33:00</td>\n",
       "      <td>Ewallet</td>\n",
       "      <td>10</td>\n",
       "      <td>522.83</td>\n",
       "      <td>1</td>\n",
       "      <td>evening</td>\n",
       "    </tr>\n",
       "    <tr>\n",
       "      <th>1</th>\n",
       "      <td>C</td>\n",
       "      <td>Astral Bay</td>\n",
       "      <td>Normal</td>\n",
       "      <td>0</td>\n",
       "      <td>Electronic accessories</td>\n",
       "      <td>15.28</td>\n",
       "      <td>7</td>\n",
       "      <td>2020-03-01</td>\n",
       "      <td>18:41:00</td>\n",
       "      <td>Cash</td>\n",
       "      <td>9</td>\n",
       "      <td>106.96</td>\n",
       "      <td>1</td>\n",
       "      <td>evening</td>\n",
       "    </tr>\n",
       "    <tr>\n",
       "      <th>2</th>\n",
       "      <td>A</td>\n",
       "      <td>Celestria</td>\n",
       "      <td>Normal</td>\n",
       "      <td>1</td>\n",
       "      <td>Home and lifestyle</td>\n",
       "      <td>46.33</td>\n",
       "      <td>5</td>\n",
       "      <td>2020-10-31</td>\n",
       "      <td>18:16:00</td>\n",
       "      <td>Credit card</td>\n",
       "      <td>6</td>\n",
       "      <td>231.65</td>\n",
       "      <td>1</td>\n",
       "      <td>evening</td>\n",
       "    </tr>\n",
       "    <tr>\n",
       "      <th>3</th>\n",
       "      <td>A</td>\n",
       "      <td>Eldoria</td>\n",
       "      <td>Member</td>\n",
       "      <td>1</td>\n",
       "      <td>Health and beauty</td>\n",
       "      <td>58.22</td>\n",
       "      <td>8</td>\n",
       "      <td>2020-09-05</td>\n",
       "      <td>13:34:00</td>\n",
       "      <td>Ewallet</td>\n",
       "      <td>10</td>\n",
       "      <td>465.76</td>\n",
       "      <td>1</td>\n",
       "      <td>afternoon</td>\n",
       "    </tr>\n",
       "    <tr>\n",
       "      <th>4</th>\n",
       "      <td>A</td>\n",
       "      <td>Celestria</td>\n",
       "      <td>Normal</td>\n",
       "      <td>1</td>\n",
       "      <td>Sports and travel</td>\n",
       "      <td>86.31</td>\n",
       "      <td>1</td>\n",
       "      <td>2020-05-27</td>\n",
       "      <td>13:59:00</td>\n",
       "      <td>Ewallet</td>\n",
       "      <td>5</td>\n",
       "      <td>86.31</td>\n",
       "      <td>0</td>\n",
       "      <td>afternoon</td>\n",
       "    </tr>\n",
       "  </tbody>\n",
       "</table>\n",
       "</div>"
      ],
      "text/plain": [
       "  branch        city customer_type  gender            product_line  \\\n",
       "0      A   Novaville        Member       0       Health and beauty   \n",
       "1      C  Astral Bay        Normal       0  Electronic accessories   \n",
       "2      A   Celestria        Normal       1      Home and lifestyle   \n",
       "3      A     Eldoria        Member       1       Health and beauty   \n",
       "4      A   Celestria        Normal       1       Sports and travel   \n",
       "\n",
       "   unit_price  quantity       date      time      payment  rating  revenue  \\\n",
       "0       74.69         7 2020-02-16  17:33:00      Ewallet      10   522.83   \n",
       "1       15.28         7 2020-03-01  18:41:00         Cash       9   106.96   \n",
       "2       46.33         5 2020-10-31  18:16:00  Credit card       6   231.65   \n",
       "3       58.22         8 2020-09-05  13:34:00      Ewallet      10   465.76   \n",
       "4       86.31         1 2020-05-27  13:59:00      Ewallet       5    86.31   \n",
       "\n",
       "   weekend time_of_day  \n",
       "0        1     evening  \n",
       "1        1     evening  \n",
       "2        1     evening  \n",
       "3        1   afternoon  \n",
       "4        0   afternoon  "
      ]
     },
     "execution_count": 55,
     "metadata": {},
     "output_type": "execute_result"
    }
   ],
   "source": [
    "df['time_of_day'] = df['time'].apply(categorize_time)\n",
    "df.head()"
   ]
  },
  {
   "cell_type": "code",
   "execution_count": 56,
   "id": "abd8ef1f",
   "metadata": {},
   "outputs": [],
   "source": [
    "# extracting season from date"
   ]
  },
  {
   "cell_type": "code",
   "execution_count": 57,
   "id": "c1c10022",
   "metadata": {},
   "outputs": [
    {
     "data": {
      "text/plain": [
       "time_of_day\n",
       "evening      7.772724\n",
       "afternoon    7.761441\n",
       "morning      7.746937\n",
       "Name: rating, dtype: float64"
      ]
     },
     "execution_count": 57,
     "metadata": {},
     "output_type": "execute_result"
    }
   ],
   "source": [
    "df.groupby(\"time_of_day\")[\"rating\"].mean().sort_values(ascending=False)"
   ]
  },
  {
   "cell_type": "code",
   "execution_count": 58,
   "id": "223af27b",
   "metadata": {},
   "outputs": [],
   "source": [
    "# It seems that there is no differnece in the rating based on the time of the purchase"
   ]
  },
  {
   "cell_type": "markdown",
   "id": "8b910dc9",
   "metadata": {},
   "source": [
    "##### Q12: Can we predict the customer rating based on other factors such as product line, branch, or payment method?"
   ]
  },
  {
   "cell_type": "code",
   "execution_count": 59,
   "id": "3c7a306a",
   "metadata": {},
   "outputs": [
    {
     "data": {
      "text/plain": [
       "customer_type  product_line          \n",
       "Member         Food and beverages        9.127660\n",
       "               Health and beauty         9.109589\n",
       "               Electronic accessories    9.089744\n",
       "               Home and lifestyle        9.060241\n",
       "               Fashion accessories       9.046512\n",
       "               Sports and travel         9.000000\n",
       "Normal         Food and beverages        6.650000\n",
       "               Fashion accessories       6.521739\n",
       "               Health and beauty         6.443038\n",
       "               Sports and travel         6.443038\n",
       "               Electronic accessories    6.413043\n",
       "               Home and lifestyle        6.220779\n",
       "Name: rating, dtype: float64"
      ]
     },
     "execution_count": 59,
     "metadata": {},
     "output_type": "execute_result"
    }
   ],
   "source": [
    "df.groupby([\"customer_type\",\"product_line\"])[\"rating\"].mean().sort_values(ascending=False)"
   ]
  },
  {
   "cell_type": "code",
   "execution_count": 60,
   "id": "ba680ecc",
   "metadata": {},
   "outputs": [
    {
     "data": {
      "text/plain": [
       "payment\n",
       "Credit card    7.894824\n",
       "Cash           7.759342\n",
       "Ewallet        7.651068\n",
       "Name: rating, dtype: float64"
      ]
     },
     "execution_count": 60,
     "metadata": {},
     "output_type": "execute_result"
    }
   ],
   "source": [
    "df.groupby(\"payment\")[\"rating\"].mean().sort_values(ascending=False)"
   ]
  },
  {
   "cell_type": "code",
   "execution_count": 61,
   "id": "b7e11d17",
   "metadata": {},
   "outputs": [
    {
     "data": {
      "text/plain": [
       "branch\n",
       "C    7.865854\n",
       "A    7.764706\n",
       "B    7.662651\n",
       "Name: rating, dtype: float64"
      ]
     },
     "execution_count": 61,
     "metadata": {},
     "output_type": "execute_result"
    }
   ],
   "source": [
    "df.groupby(\"branch\")[\"rating\"].mean().sort_values(ascending=False)"
   ]
  },
  {
   "cell_type": "code",
   "execution_count": 62,
   "id": "89ee447a",
   "metadata": {},
   "outputs": [],
   "source": [
    "# It seems that customer_type is the only important atrebute that can precit rating.\n",
    "# Clearely, members give a higer rating thatn normal cusotmers. "
   ]
  },
  {
   "cell_type": "code",
   "execution_count": 63,
   "id": "7d3a88cf",
   "metadata": {},
   "outputs": [
    {
     "data": {
      "image/png": "[encoded data removed]",
      "text/plain": [
       "<Figure size 600x300 with 1 Axes>"
      ]
     },
     "metadata": {},
     "output_type": "display_data"
    }
   ],
   "source": [
    "plt.figure(figsize=(6, 3))\n",
    "sns.boxplot(x=\"customer_type\", y=\"rating\", data=df, color=\"skyblue\")\n",
    "plt.title(\"Relationship between Customer Type and Rating\")\n",
    "plt.xlabel(\"Customer Type\")\n",
    "plt.ylabel(\"Rating\")\n",
    "plt.show()"
   ]
  },
  {
   "cell_type": "code",
   "execution_count": null,
   "id": "0664135e",
   "metadata": {},
   "outputs": [],
   "source": []
  }
 ],
 "metadata": {
  "kernelspec": {
   "display_name": "Python 3 (ipykernel)",
   "language": "python",
   "name": "python3"
  },
  "language_info": {
   "codemirror_mode": {
    "name": "ipython",
    "version": 3
   },
   "file_extension": ".py",
   "mimetype": "text/x-python",
   "name": "python",
   "nbconvert_exporter": "python",
   "pygments_lexer": "ipython3",
   "version": "3.10.7"
  }
 },
 "nbformat": 4,
 "nbformat_minor": 5
}
